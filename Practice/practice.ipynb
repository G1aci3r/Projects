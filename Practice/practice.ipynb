{
 "metadata": {
  "language_info": {
   "codemirror_mode": {
    "name": "ipython",
    "version": 3
   },
   "file_extension": ".py",
   "mimetype": "text/x-python",
   "name": "python",
   "nbconvert_exporter": "python",
   "pygments_lexer": "ipython3",
   "version": "3.8.5"
  },
  "orig_nbformat": 4,
  "kernelspec": {
   "name": "python3",
   "display_name": "Python 3.8.5 64-bit ('anaconda3')"
  },
  "interpreter": {
   "hash": "069afc611f37c5fe1495af38efe9284321ce136b209689e2b62de4d9867c42ce"
  }
 },
 "nbformat": 4,
 "nbformat_minor": 2,
 "cells": [
  {
   "cell_type": "code",
   "execution_count": 4,
   "metadata": {},
   "outputs": [
    {
     "output_type": "stream",
     "name": "stdout",
     "text": [
      "4\nstrstrr\n[1, 2, 3, 4, 5, 1, 2]\n2\n9\nstrstrstr\n[1, 2, 3, 1, 2, 3, 1, 2, 3]\n1.0\n1\n3\n"
     ]
    }
   ],
   "source": [
    "add = 2 + 2\n",
    "add_str = \"str\" + \"strr\"\n",
    "add_list = [1, 2, 3, 4, 5] + [1, 2]\n",
    "\n",
    "sub = 3 - 1\n",
    "\n",
    "mult = 3 * 3\n",
    "mult_str = \"str\" * 3\n",
    "mult_list = [1, 2, 3] * 3\n",
    "\n",
    "div = 2 / 2\n",
    "\n",
    "modulo = 10%3 # Gives10ou the the remainder of a division operation\n",
    "\n",
    "floor_division = 7 // 2 # Gives you the largest multiple, in this case it's 3 \n",
    "\n",
    "print(add)\n",
    "print(add_str)\n",
    "print(add_list)\n",
    "print(sub)\n",
    "print(mult)\n",
    "print(mult_str)\n",
    "print(mult_list)\n",
    "print(div)\n",
    "print(modulo)\n",
    "print(floor_division)"
   ]
  },
  {
   "cell_type": "code",
   "execution_count": 9,
   "metadata": {},
   "outputs": [
    {
     "output_type": "execute_result",
     "data": {
      "text/plain": [
       "0"
      ]
     },
     "metadata": {},
     "execution_count": 9
    }
   ],
   "source": [
    "x= 5\n",
    "modulo = 15%x\n",
    "\n",
    "modulo"
   ]
  },
  {
   "cell_type": "code",
   "execution_count": 11,
   "metadata": {},
   "outputs": [
    {
     "output_type": "stream",
     "name": "stdout",
     "text": [
      "True\nTrue\nFalse\nTrue\nTrue\nTrue\n"
     ]
    }
   ],
   "source": [
    "print(3 == 3) # Equals\n",
    "\n",
    "print(3 != 4) # Does not equal\n",
    "\n",
    "print(3 > 4) # Greater than\n",
    "\n",
    "print(3 < 5) # Less than\n",
    "print(2 >= 2) # Greater than or equal to\n",
    "\n",
    "print(4 <= 4) # Less than or equal to"
   ]
  },
  {
   "cell_type": "code",
   "execution_count": 3,
   "metadata": {},
   "outputs": [
    {
     "output_type": "execute_result",
     "data": {
      "text/plain": [
       "True"
      ]
     },
     "metadata": {},
     "execution_count": 3
    }
   ],
   "source": [
    "'if' in 'laskfdjaslfjiflaksdlk'"
   ]
  },
  {
   "cell_type": "code",
   "execution_count": 13,
   "metadata": {},
   "outputs": [],
   "source": [
    "import numpy as np"
   ]
  },
  {
   "cell_type": "code",
   "execution_count": 14,
   "metadata": {},
   "outputs": [
    {
     "output_type": "execute_result",
     "data": {
      "text/plain": [
       "array([1, 4, 6])"
      ]
     },
     "metadata": {},
     "execution_count": 14
    }
   ],
   "source": [
    "np.array([1,4,6])"
   ]
  },
  {
   "cell_type": "code",
   "execution_count": 34,
   "metadata": {},
   "outputs": [
    {
     "output_type": "stream",
     "name": "stdout",
     "text": [
      "i was 3\ni is now 4\ni was 4\ni is now 5\ni was 5\ni is now 6\ni was 6\ni is now 7\ni was 7\ni is now 8\ni was 8\ni is now 9\ni was 9\ni is now 10\ni was 10\ni is now 11\ni was 11\ni is now 12\ni was 12\ni is now 13\ni was 13\ni is now 14\ni was 14\ni is now 15\ni was 15\ni is now 16\ni was 16\ni is now 17\ni was 17\ni is now 18\ni was 18\ni is now 19\ni was 19\ni is now 20\ni was 20\ni is now 21\ni was 21\ni is now 22\ni was 22\ni is now 23\ni was 23\ni is now 24\ni was 24\ni is now 25\ni was 25\ni is now 26\ni was 26\ni is now 27\ni was 27\ni is now 28\ni was 28\ni is now 29\ni was 29\ni is now 30\ni was 30\ni is now 31\ni was 31\ni is now 32\ni was 32\ni is now 33\ni was 33\ni is now 34\ni was 34\ni is now 35\ni was 35\ni is now 36\ni was 36\ni is now 37\ni was 37\ni is now 38\ni was 38\ni is now 39\ni was 39\ni is now 40\ni was 40\ni is now 41\ni was 41\ni is now 42\ni was 42\ni is now 43\ni was 43\ni is now 44\ni was 44\ni is now 45\ni was 45\ni is now 46\ni was 46\ni is now 47\ni was 47\ni is now 48\ni was 48\ni is now 49\ni was 49\ni is now 50\ni was 50\ni is now 51\ni was 51\ni is now 52\ni was 52\ni is now 53\ni was 53\ni is now 54\ni was 54\ni is now 55\ni was 55\ni is now 56\ni was 56\ni is now 57\ni was 57\ni is now 58\ni was 58\ni is now 59\ni was 59\ni is now 60\ni was 60\ni is now 61\ni was 61\ni is now 62\ni was 62\ni is now 63\ni was 63\ni is now 64\ni was 64\ni is now 65\ni was 65\ni is now 66\ni was 66\ni is now 67\ni was 67\ni is now 68\ni was 68\ni is now 69\ni was 69\ni is now 70\ni was 70\ni is now 71\ni was 71\ni is now 72\ni was 72\ni is now 73\ni was 73\ni is now 74\ni was 74\ni is now 75\ni was 75\ni is now 76\ni was 76\ni is now 77\ni was 77\ni is now 78\ni was 78\ni is now 79\ni was 79\ni is now 80\ni was 80\ni is now 81\ni was 81\ni is now 82\ni was 82\ni is now 83\ni was 83\ni is now 84\ni was 84\ni is now 85\ni was 85\ni is now 86\ni was 86\ni is now 87\ni was 87\ni is now 88\ni was 88\ni is now 89\ni was 89\ni is now 90\ni was 90\ni is now 91\ni was 91\ni is now 92\ni was 92\ni is now 93\ni was 93\ni is now 94\ni was 94\ni is now 95\ni was 95\ni is now 96\ni was 96\ni is now 97\ni was 97\ni is now 98\ni was 98\ni is now 99\ni was 99\ni is now 100\nLoop has ended\n"
     ]
    }
   ],
   "source": [
    "test = list(range(3,100)) # use () not []\n",
    "                          # () is for tuple\n",
    "                          # [] is a list\n",
    "                          # {} is a dict\n",
    "\n",
    "for i in test:\n",
    "    print (\"i was\", i)\n",
    "    i += 1\n",
    "    print(\"i is now\", i)\n",
    "print('Loop has ended') # is indented, it will place it at the end of ever loop\n"
   ]
  },
  {
   "cell_type": "code",
   "execution_count": 36,
   "metadata": {},
   "outputs": [
    {
     "output_type": "stream",
     "name": "stdout",
     "text": [
      "1\n2\n3\n4\n5\n6\n7\n8\n9\n10\n"
     ]
    }
   ],
   "source": [
    "x = 0\n",
    "while x < 10:\n",
    "    x += 1\n",
    "    print(x)"
   ]
  },
  {
   "cell_type": "code",
   "execution_count": null,
   "metadata": {},
   "outputs": [],
   "source": []
  }
 ]
}