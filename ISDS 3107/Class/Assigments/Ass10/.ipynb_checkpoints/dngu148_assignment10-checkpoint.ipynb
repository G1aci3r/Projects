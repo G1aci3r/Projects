{
 "cells": [
  {
   "cell_type": "markdown",
   "metadata": {},
   "source": [
    "# Auto Mileage Calculations\n",
    "\n",
    "Due: November 26, 2019 (11:59pm)"
   ]
  },
  {
   "cell_type": "markdown",
   "metadata": {},
   "source": [
    "This is a reboot of mpg assignment where we will answer similar questions except this time it will be completed using a Pandas Dataframe and fewer tears."
   ]
  },
  {
   "cell_type": "markdown",
   "metadata": {},
   "source": [
    "Import the Pandas package and alias it as 'pd' - 5pts."
   ]
  },
  {
   "cell_type": "code",
   "execution_count": 1,
   "metadata": {},
   "outputs": [],
   "source": [
    "# first things first.  Let's import the pandas package.\n",
    "import pandas as pd"
   ]
  },
  {
   "cell_type": "markdown",
   "metadata": {},
   "source": [
    "If you are running the jupyter notebook session in the same directory as your data file (mpg.csv), creating the dataframe should be something like:\n",
    "```\n",
    "mpg = pd.read_csv('mpg.csv')\n",
    "```"
   ]
  },
  {
   "cell_type": "markdown",
   "metadata": {},
   "source": [
    "Read the data into a Pandas dataframe - 5pts."
   ]
  },
  {
   "cell_type": "code",
   "execution_count": 2,
   "metadata": {},
   "outputs": [],
   "source": [
    "mpg = pd.read_csv('mpg.csv')\n"
   ]
  },
  {
   "cell_type": "markdown",
   "metadata": {},
   "source": [
    "Display the columns in the dataframe - 5pts."
   ]
  },
  {
   "cell_type": "code",
   "execution_count": 3,
   "metadata": {},
   "outputs": [
    {
     "data": {
      "text/plain": [
       "Index(['id', 'manufacturer', 'model', 'displ', 'year', 'cyl', 'trans', 'drv',\n",
       "       'cty', 'hwy', 'fl', 'class'],\n",
       "      dtype='object')"
      ]
     },
     "execution_count": 3,
     "metadata": {},
     "output_type": "execute_result"
    }
   ],
   "source": [
    "# use the 'columns' attribute to view the columns of the dataframe\n",
    "mpg.columns"
   ]
  },
  {
   "cell_type": "markdown",
   "metadata": {},
   "source": [
    "Question 1: Calculate the average city mileage for all vehicles - 20pts."
   ]
  },
  {
   "cell_type": "code",
   "execution_count": 4,
   "metadata": {},
   "outputs": [
    {
     "data": {
      "text/plain": [
       "16.858974358974358"
      ]
     },
     "execution_count": 4,
     "metadata": {},
     "output_type": "execute_result"
    }
   ],
   "source": [
    "# hint: combine mpg.cty and mpg.mean()\n",
    "mpg.cty.mean()"
   ]
  },
  {
   "cell_type": "markdown",
   "metadata": {},
   "source": [
    "Question 2: Calculate the average highway mileage for all vehicles - 20pts.\n"
   ]
  },
  {
   "cell_type": "code",
   "execution_count": 6,
   "metadata": {},
   "outputs": [
    {
     "data": {
      "text/plain": [
       "23.44017094017094"
      ]
     },
     "execution_count": 6,
     "metadata": {},
     "output_type": "execute_result"
    }
   ],
   "source": [
    "mpg.hwy.mean()"
   ]
  },
  {
   "cell_type": "markdown",
   "metadata": {},
   "source": [
    "Question 3: Calculate the average highway mileage by class - 20pts."
   ]
  },
  {
   "cell_type": "code",
   "execution_count": 8,
   "metadata": {},
   "outputs": [
    {
     "data": {
      "text/plain": [
       "class\n",
       "2seater       24.800000\n",
       "compact       28.297872\n",
       "midsize       27.292683\n",
       "minivan       22.363636\n",
       "pickup        16.878788\n",
       "subcompact    28.142857\n",
       "suv           18.129032\n",
       "Name: hwy, dtype: float64"
      ]
     },
     "execution_count": 8,
     "metadata": {},
     "output_type": "execute_result"
    }
   ],
   "source": [
    "# hint: use the groupby('class') function\n",
    "mpg.groupby('class').hwy.mean()"
   ]
  },
  {
   "cell_type": "markdown",
   "metadata": {},
   "source": [
    "Question 4: Calculate the average highway mileage by manufacturer - 20pts."
   ]
  },
  {
   "cell_type": "code",
   "execution_count": 9,
   "metadata": {},
   "outputs": [
    {
     "data": {
      "text/plain": [
       "manufacturer\n",
       "audi          26.444444\n",
       "chevrolet     21.894737\n",
       "dodge         17.945946\n",
       "ford          19.360000\n",
       "honda         32.555556\n",
       "hyundai       26.857143\n",
       "jeep          17.625000\n",
       "land rover    16.500000\n",
       "lincoln       17.000000\n",
       "mercury       18.000000\n",
       "nissan        24.615385\n",
       "pontiac       26.400000\n",
       "subaru        25.571429\n",
       "toyota        24.911765\n",
       "volkswagen    29.222222\n",
       "Name: hwy, dtype: float64"
      ]
     },
     "execution_count": 9,
     "metadata": {},
     "output_type": "execute_result"
    }
   ],
   "source": [
    "# hint: use the groupby('manufacturer') function\n",
    "mpg.groupby('manufacturer').hwy.mean()"
   ]
  },
  {
   "cell_type": "markdown",
   "metadata": {},
   "source": [
    "Turn-in this notebook via Moodle\n",
    "- name your notebook file: paws_id + '_assignment8.ipynb' - 5pts\n",
    "- example: jdavi48_assignment8.ipynb\n"
   ]
  },
  {
   "cell_type": "markdown",
   "metadata": {},
   "source": [
    "Good job!  Using Pandas, you accomplished in 5 lines of code (and minutes of effort) what likely took you dozens of lines of code (and hours of effort)."
   ]
  }
 ],
 "metadata": {
  "kernelspec": {
   "display_name": "Python 3",
   "language": "python",
   "name": "python3"
  },
  "language_info": {
   "codemirror_mode": {
    "name": "ipython",
    "version": 3
   },
   "file_extension": ".py",
   "mimetype": "text/x-python",
   "name": "python",
   "nbconvert_exporter": "python",
   "pygments_lexer": "ipython3",
   "version": "3.7.4"
  }
 },
 "nbformat": 4,
 "nbformat_minor": 2
}
