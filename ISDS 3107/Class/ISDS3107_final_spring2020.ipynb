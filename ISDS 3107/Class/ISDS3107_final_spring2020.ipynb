{
 "cells": [
  {
   "cell_type": "markdown",
   "metadata": {},
   "source": [
    "# ISDS 3107 Final Exam"
   ]
  },
  {
   "cell_type": "markdown",
   "metadata": {},
   "source": [
    "**This is an individual assignment.  Do not discuss the questions or your answers with anyone other than Dr. Davis.**\n",
    "Turn in via Moodle.  Late exams will not be accepted.  No exceptions. Save your file as your pawsid + '_ISDS3107_final.ipynb' and upload it to Moodle before the due date.  As an example, 'jdavi48_ISDS3107_final.ipynb' is a proper file name.  (note: the file extension .ipynb is added automatically by Jupyter)\n",
    "When grading, I will open the file and select 'Run All'.  Your submitted file should be able to run and access the referenced datasets remotely (don't download the datasets...use the URLs provided).   \n",
    "\n",
    "Minus 5 points for naming the file incorrectly.\n",
    "\n",
    "Minus 15 points for submitting broken code that prohibits subsequent cells from running.\n",
    "\n",
    "Section 1 (Tuesday & Thursday @ 3pm) **Due: Wednesday, May 6 at 12:30pm**\n",
    "\n",
    "Section 2 (Tuesday & Thursday @ Noon) **Due: Thursday, May 7 at 3:00PM**\n"
   ]
  },
  {
   "cell_type": "markdown",
   "metadata": {},
   "source": [
    "**Question 1.** Scenario: You have some data where customer names are listed in one field, \"Davis, James\".  You are tasked to create a python function named 'parse_name' that will accept a string input and return a **list** with the first_name and last_name seperated.  Create the function in the cell below. (10 points)"
   ]
  },
  {
   "cell_type": "code",
   "execution_count": null,
   "metadata": {},
   "outputs": [],
   "source": [
    "# write the code for your parse_name function here:\n"
   ]
  },
  {
   "cell_type": "code",
   "execution_count": null,
   "metadata": {},
   "outputs": [],
   "source": [
    "parse_name('Davis, James')\n",
    "# Do not change anything in this cell.\n",
    "# Running this cell should return the exact output:\n",
    "# ['James', 'Davis']"
   ]
  },
  {
   "cell_type": "markdown",
   "metadata": {},
   "source": [
    "**Question 2.** Scenario: Your team is working with data where dates are caputred as a string, \"9/15/2019\".  You are tasked to create a python function named 'mdy_date' that will accept a string input, convert it to a python **datetime** object, and return the **datetime** object.  Create the function in the cell below. (10 points)"
   ]
  },
  {
   "cell_type": "code",
   "execution_count": null,
   "metadata": {},
   "outputs": [],
   "source": [
    "# write the code for your mdy_date function here:\n"
   ]
  },
  {
   "cell_type": "code",
   "execution_count": null,
   "metadata": {},
   "outputs": [],
   "source": [
    "mdy_date(\"9/15/2019\")\n",
    "# Do not change anything in this cell.\n",
    "# Running this cell should return the exact output:\n",
    "# datetime.datetime(2019, 9, 15, 0, 0)"
   ]
  },
  {
   "cell_type": "markdown",
   "metadata": {},
   "source": [
    "For questions 3 - 13, use the IMDb movies dataset located at [http://bit.ly/imdbratings](http://bit.ly/imdbratings)"
   ]
  },
  {
   "cell_type": "markdown",
   "metadata": {},
   "source": [
    "**Question 3.** Import the pandas package in the conventional manner used in class and then read the IMDb movie dataset into a Pandas dataframe called 'df_movies' (5 points)."
   ]
  },
  {
   "cell_type": "code",
   "execution_count": null,
   "metadata": {},
   "outputs": [],
   "source": []
  },
  {
   "cell_type": "markdown",
   "metadata": {},
   "source": [
    "**Question 4.** Using the 'head' method, view the first 15 rows of df_movies (5 points)."
   ]
  },
  {
   "cell_type": "code",
   "execution_count": null,
   "metadata": {},
   "outputs": [],
   "source": []
  },
  {
   "cell_type": "markdown",
   "metadata": {},
   "source": [
    "**Question 5.** Use the proper method, and only one method, to display the descriptive statistics for the numeric columns (count, mean, std, min, 25%, 50%, 75%, max) for df_movies. (5 points)"
   ]
  },
  {
   "cell_type": "code",
   "execution_count": null,
   "metadata": {},
   "outputs": [],
   "source": []
  },
  {
   "cell_type": "markdown",
   "metadata": {},
   "source": [
    "**Question 6.** Rename the 'star_rating' column to 'stars' and 'content_rating' to 'rated'.  Output the column names using the correct method. (10 points)."
   ]
  },
  {
   "cell_type": "code",
   "execution_count": null,
   "metadata": {},
   "outputs": [],
   "source": [
    "\n",
    "# output should be: Index(['stars', 'title', 'rated', 'genre', 'duration', 'actors_list'], dtype='object')"
   ]
  },
  {
   "cell_type": "markdown",
   "metadata": {},
   "source": [
    "**Question 7.** Using a single line of code, calculate the average movie duration by genre. (5 points)"
   ]
  },
  {
   "cell_type": "code",
   "execution_count": null,
   "metadata": {},
   "outputs": [],
   "source": []
  },
  {
   "cell_type": "markdown",
   "metadata": {},
   "source": [
    "**Question 8.**  Using your output from above, which genre has the longest duration? (5 points)"
   ]
  },
  {
   "cell_type": "markdown",
   "metadata": {},
   "source": [
    "put your question 8 answer here."
   ]
  },
  {
   "cell_type": "markdown",
   "metadata": {},
   "source": [
    "**Question 9.** Import matplotlib.pyplot and the seaborn package using the conventions from class.  Make sure to designate any plotting images be displayed inline. (5 points)"
   ]
  },
  {
   "cell_type": "code",
   "execution_count": null,
   "metadata": {},
   "outputs": [],
   "source": []
  },
  {
   "cell_type": "markdown",
   "metadata": {},
   "source": [
    "**Question 10.** In the 'rated' column, replace instances of 'NOT RATED' and 'UNRATED' with 'N/R' and replace 'APPROVED', 'PASSED' and 'GP' with 'OTHER'.  Output the last 10 rows using the tail method. (10 points)"
   ]
  },
  {
   "cell_type": "code",
   "execution_count": null,
   "metadata": {},
   "outputs": [],
   "source": []
  },
  {
   "cell_type": "markdown",
   "metadata": {},
   "source": [
    "**Question 11.**  Using the seaborn package output a countplot of the ratings (R, PG-13, ....) on the x-axis.  Rotate the xticks 45 degrees for better readibility. (15 points)"
   ]
  },
  {
   "cell_type": "code",
   "execution_count": null,
   "metadata": {},
   "outputs": [],
   "source": []
  },
  {
   "cell_type": "markdown",
   "metadata": {},
   "source": [
    "**Question 12.**  Display only the dataframe rows for movies awarded over 8.8 stars. (10 points)"
   ]
  },
  {
   "cell_type": "code",
   "execution_count": null,
   "metadata": {},
   "outputs": [],
   "source": []
  },
  {
   "cell_type": "markdown",
   "metadata": {},
   "source": [
    "**Question 13.** Which of the movies in the above output is your favorite?  You must select from the output of the cell above.  (5 points)"
   ]
  },
  {
   "cell_type": "markdown",
   "metadata": {},
   "source": [
    "put your answer here"
   ]
  },
  {
   "cell_type": "code",
   "execution_count": null,
   "metadata": {},
   "outputs": [],
   "source": []
  }
 ],
 "metadata": {
  "kernelspec": {
   "display_name": "Python 3",
   "language": "python",
   "name": "python3"
  },
  "language_info": {
   "codemirror_mode": {
    "name": "ipython",
    "version": 3
   },
   "file_extension": ".py",
   "mimetype": "text/x-python",
   "name": "python",
   "nbconvert_exporter": "python",
   "pygments_lexer": "ipython3",
   "version": "3.6.3"
  }
 },
 "nbformat": 4,
 "nbformat_minor": 2
}
